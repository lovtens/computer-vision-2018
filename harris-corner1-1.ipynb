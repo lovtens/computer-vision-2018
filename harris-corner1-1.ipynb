{
 "cells": [
  {
   "cell_type": "markdown",
   "metadata": {},
   "source": [
    "##### Prob 1.1\n",
    " - 읽은 이미지를 각각 horizon 성분, vertical 성분으로 convolution 한뒤 3x3 window를 적용하여 다시한번 필터링하여 만든 Ix2, Iy2, Ixy를 이용하여 Harris matrix H 를 구했다  \n",
    " - 또한 H matrix의 값으로부터 Harmonic mean을 이용, 그리고 H matrix의 eigen value의 min 값을 이용해 각각 harris corner detector와의 Shi-Tomasi detector를 구현하였다.\n",
    "\n",
    " - 이때 matlab의 conv2 함수의 경우 index를 벗어난경우 padding이 적용되기 때문에 경계 픽셀을 다루는 경우에도 문제가 없다.\n"
   ]
  },
  {
   "cell_type": "code",
   "execution_count": 35,
   "metadata": {},
   "outputs": [
    {
     "name": "stdout",
     "output_type": "stream",
     "text": [
      "done\n"
     ]
    }
   ],
   "source": [
    "import cv2\n",
    "import matplotlib.pyplot as plt\n",
    "import numpy as np\n",
    "from scipy import signal\n",
    "print(\"done\")"
   ]
  },
  {
   "cell_type": "code",
   "execution_count": 190,
   "metadata": {},
   "outputs": [
    {
     "data": {
      "text/plain": [
       "<matplotlib.image.AxesImage at 0x18face48>"
      ]
     },
     "execution_count": 190,
     "metadata": {},
     "output_type": "execute_result"
    },
    {
     "data": {
      "image/png": "[encoded data removed]",
      "text/plain": [
       "<Figure size 432x288 with 1 Axes>"
      ]
     },
     "metadata": {
      "needs_background": "light"
     },
     "output_type": "display_data"
    }
   ],
   "source": [
    "img = cv2.imread('checkerboard.png',1)\n",
    "row = img.shape[0]\n",
    "col = img.shape[1]\n",
    "# print(row,col)\n",
    "filt_hor = np.array([[-1,1]])*5\n",
    "filt_ver = np.array([[-1],[1]])*5\n",
    "# print(filt_hor)\n",
    "# print(filt_ver)\n",
    "plt.imshow(img)"
   ]
  },
  {
   "cell_type": "code",
   "execution_count": 191,
   "metadata": {},
   "outputs": [
    {
     "data": {
      "text/plain": [
       "<matplotlib.image.AxesImage at 0x191de128>"
      ]
     },
     "execution_count": 191,
     "metadata": {},
     "output_type": "execute_result"
    },
    {
     "data": {
      "image/png": "[encoded data removed]",
      "text/plain": [
       "<Figure size 432x288 with 2 Axes>"
      ]
     },
     "metadata": {
      "needs_background": "light"
     },
     "output_type": "display_data"
    }
   ],
   "source": [
    "# print(img)\n",
    "Ix = cv2.filter2D(img,-1,filt_hor)\n",
    "Iy = cv2.filter2D(img,-1,filt_ver)\n",
    "# print(Ix)\n",
    "plt.subplot(1,2,1)\n",
    "plt.title(\"Ix\")\n",
    "plt.imshow(Ix)\n",
    "plt.subplot(1,2,2)\n",
    "plt.title('Iy')\n",
    "plt.imshow(Iy)"
   ]
  },
  {
   "cell_type": "code",
   "execution_count": 192,
   "metadata": {},
   "outputs": [
    {
     "data": {
      "image/png": "[encoded data removed]",
      "text/plain": [
       "<Figure size 432x288 with 3 Axes>"
      ]
     },
     "metadata": {
      "needs_background": "light"
     },
     "output_type": "display_data"
    }
   ],
   "source": [
    "Ix2 = Ix**2\n",
    "Iy2 = Iy**2\n",
    "Ixy = Ix*Iy\n",
    "plt.subplot(1,3,1)\n",
    "plt.title(\"Ix2\")\n",
    "plt.imshow(Ix2)\n",
    "plt.subplot(1,3,2)\n",
    "plt.title('Iy2')\n",
    "plt.imshow(Iy2)\n",
    "plt.subplot(1,3,3)\n",
    "plt.title('Ixy')\n",
    "plt.imshow(Ixy)\n",
    "win = np.ones([3,3])"
   ]
  },
  {
   "cell_type": "code",
   "execution_count": 193,
   "metadata": {},
   "outputs": [],
   "source": [
    "sum_Ix2 = cv2.filter2D(Ix2,-1,win)\n",
    "sum_Iy2 = cv2.filter2D(Iy2,-1,win)\n",
    "sum_Ixy = cv2.filter2D(Ixy,-1,win)\n",
    "\n",
    "Harmonic = np.zeros((row, col,3)); \n",
    "Shitomasi = np.zeros((row, col,3));"
   ]
  },
  {
   "cell_type": "code",
   "execution_count": 185,
   "metadata": {},
   "outputs": [
    {
     "name": "stderr",
     "output_type": "stream",
     "text": [
      "C:\\Users\\GUR\\Anaconda3\\envs\\py27\\lib\\site-packages\\ipykernel_launcher.py:7: RuntimeWarning: invalid value encountered in double_scalars\n",
      "  import sys\n"
     ]
    },
    {
     "data": {
      "text/plain": [
       "<matplotlib.image.AxesImage at 0x17915128>"
      ]
     },
     "execution_count": 185,
     "metadata": {},
     "output_type": "execute_result"
    },
    {
     "data": {
      "image/png": "[encoded data removed]",
      "text/plain": [
       "<Figure size 1584x720 with 3 Axes>"
      ]
     },
     "metadata": {
      "needs_background": "light"
     },
     "output_type": "display_data"
    }
   ],
   "source": [
    "for x in range(row):\n",
    "    for y in range(col):\n",
    "        a = sum_Ix2[x][y][0]; b = sum_Ixy[x][y][0]; c = sum_Iy2[x][y][0]\n",
    "        M = [[a,b],[b,c]]\n",
    "        R1 = np.linalg.det(M)/np.trace(M)\n",
    "        eig_val = np.linalg.eigvals(M)\n",
    "        eig_val = np.absolute(eig_val)\n",
    "        R2 = eig_val.min()\n",
    "        for i in range(3):\n",
    "            Harmonic[x][y][i] = R1\n",
    "            Shitomasi[x][y][i] = R2\n",
    "            \n",
    "plt.figure(figsize=(22,10)) \n",
    "plt.subplot(1,3,1)\n",
    "plt.title('original')\n",
    "plt.imshow(img)\n",
    "plt.subplot(1,3,2)\n",
    "plt.title('harmonic')\n",
    "plt.imshow(Harmonic)\n",
    "plt.subplot(1,3,3)\n",
    "plt.title('Shi-tomashi')\n",
    "plt.imshow(Shitomasi)\n"
   ]
  }
 ],
 "metadata": {
  "kernelspec": {
   "display_name": "Python 2",
   "language": "python",
   "name": "python2"
  },
  "language_info": {
   "codemirror_mode": {
    "name": "ipython",
    "version": 2
   },
   "file_extension": ".py",
   "mimetype": "text/x-python",
   "name": "python",
   "nbconvert_exporter": "python",
   "pygments_lexer": "ipython2",
   "version": "2.7.16"
  }
 },
 "nbformat": 4,
 "nbformat_minor": 2
}
